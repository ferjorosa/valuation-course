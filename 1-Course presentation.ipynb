{
 "cells": [
  {
   "cell_type": "markdown",
   "id": "0729bd5c-cc53-4c6e-9e5e-6eabcca64122",
   "metadata": {},
   "source": [
    "# 1 - Course presentation\n",
    "\n",
    "1. Characterizing Valuation as a discipline\n",
    "2. Valuing an asset is not the same as pricing that asset\n",
    "3. Valuation is simple & universal\n",
    "4. Good valuation = Story + Numbers\n",
    "5. If you value something, you should be willing to act on it..."
   ]
  },
  {
   "cell_type": "markdown",
   "id": "2a710f38-12e3-4685-9245-646836ff85c0",
   "metadata": {},
   "source": [
    "## 1.1 - Characterizing Valuation as a discipline"
   ]
  },
  {
   "cell_type": "markdown",
   "id": "76244a10-1dd4-49cf-ad65-95792d3f816c",
   "metadata": {},
   "source": [
    "* **Valuation is not a science**. If you get the inputs right, you should get the output right. This is not true in valuation, there are many external factors that are unpredictable.\n",
    "* **Valuation is not an art**. These essence of art is that you are either born a great artist or you are not. Valuation can be truly learned.\n",
    "* <span style=\"color:blue\"><b>Valuation is a craft</b>. A craft is a skill that you learn by doing. The more you do it, the better you get at it.</span>"
   ]
  },
  {
   "cell_type": "markdown",
   "id": "72fe6f3e-d5af-4f1e-bc6d-cf12eecafeb5",
   "metadata": {},
   "source": [
    "## 1.2 - Valuing an asset is not the same as pricing that asset"
   ]
  },
  {
   "cell_type": "markdown",
   "id": "7e380c8a-7b8c-4cd6-a586-00d8d53eba47",
   "metadata": {},
   "source": [
    "<table>\n",
    "    <tr>\n",
    "        <td><img src=\"images_1/valuation_vs_pricing.png\" width=\"800\"></td>\n",
    "    </tr>\n",
    "</table>"
   ]
  },
  {
   "cell_type": "markdown",
   "id": "5a0e4388-d6dd-4d41-aeda-de7cecab4976",
   "metadata": {},
   "source": [
    "## 1.3 - Valuation is simple & universal\n",
    "\n"
   ]
  },
  {
   "cell_type": "markdown",
   "id": "30793ff3-3040-4253-a029-549b6cbb47ae",
   "metadata": {},
   "source": [
    "<table>\n",
    "    <tr>\n",
    "        <td><img src=\"images_1/valuation_is_simple.png\" width=\"800\"></td>\n",
    "    </tr>\n",
    "</table>"
   ]
  },
  {
   "cell_type": "markdown",
   "id": "2627ac57-a156-4916-b2b0-e5c7d1fb3e20",
   "metadata": {},
   "source": [
    "## 1.4 - Good valuation = Story + Numbers"
   ]
  },
  {
   "cell_type": "markdown",
   "id": "87c2729d-9072-4129-8eeb-89493628f26f",
   "metadata": {},
   "source": [
    "<table>\n",
    "    <tr>\n",
    "        <td><img src=\"images_1/valuation_is_story_plus_numbers.png\" width=\"800\"></td>\n",
    "    </tr>\n",
    "</table>"
   ]
  },
  {
   "cell_type": "markdown",
   "id": "fc4fd6fc-66b4-4d40-85e9-dd8f84122b96",
   "metadata": {},
   "source": [
    "## 1.5 - If you value something, you should be willing to act on it..."
   ]
  },
  {
   "cell_type": "markdown",
   "id": "b64bef3f-02bc-459c-a743-39b5290e1a91",
   "metadata": {},
   "source": [
    "* **What valuation theory?** There is very little theory in valuation (from an academic perspective).\n",
    "<br></br>\n",
    "* **Pragmatism, not purity** The end game is to estimate a value for an asset, even if it means taking short cuts an making assumptions that would make purists blanch.\n",
    "<br></br>\n",
    "* **Do you believe?** To act on your valuations, you have to have faith in:\n",
    "    * Your own valuation judgements.\n",
    "    * Markets: that prices will move towards your value estimates."
   ]
  }
 ],
 "metadata": {
  "kernelspec": {
   "display_name": "Python 3 (ipykernel)",
   "language": "python",
   "name": "python3"
  },
  "language_info": {
   "codemirror_mode": {
    "name": "ipython",
    "version": 3
   },
   "file_extension": ".py",
   "mimetype": "text/x-python",
   "name": "python",
   "nbconvert_exporter": "python",
   "pygments_lexer": "ipython3",
   "version": "3.9.15"
  }
 },
 "nbformat": 4,
 "nbformat_minor": 5
}
