{
 "cells": [
  {
   "cell_type": "markdown",
   "id": "c242392d-e190-40b7-bdf0-2b4ff318058e",
   "metadata": {},
   "source": [
    "# 2 - The Bermuda Triangle of Valuation\n",
    "\n",
    "1. Bias and preconceptions: the biggest barrier to valuation\n",
    "2. Bias: The Sources\n",
    "3. What influences valuation?\n",
    "4. Misconceptions about Valuation\n",
    "5. The Bermuda Triangle of Valuation\n",
    "6. Approaches to Valuation\n",
    "7. Basis for all valuation approaches\n",
    "8. Discounted Cashflow Valuation (DCF)\n",
    "9. Relative valuation (Pricing)\n",
    "10. Asset Based Valuation\n",
    "11. Contingent Claim (Option) Valuation"
   ]
  },
  {
   "cell_type": "markdown",
   "id": "d1c43a47-acaa-4712-a379-596b52f5d8ab",
   "metadata": {},
   "source": [
    "## 2.1 - Bias and preconceptions: the biggest barrier to valuation"
   ]
  },
  {
   "cell_type": "markdown",
   "id": "de62eac3-b043-4fc4-94c8-c3dbccd7b48c",
   "metadata": {},
   "source": [
    "<table>\n",
    "    <tr>\n",
    "        <td><img src=\"images_2/lemmings.png\" width=\"380\"></td>\n",
    "    </tr>\n",
    "    <tr>\n",
    "        <td>\"One hundred thousand lemmings cannot be wrong\" by <i>Graffiti</i></td>\n",
    "    </tr>    \n",
    "</table>\n"
   ]
  },
  {
   "cell_type": "markdown",
   "id": "39909392-3b95-4587-84d0-d533b075e95b",
   "metadata": {},
   "source": [
    "## 2.2 - Bias: The Sources"
   ]
  },
  {
   "cell_type": "markdown",
   "id": "e6986957-252a-4d9e-96f2-74e8d25433d2",
   "metadata": {},
   "source": [
    "* **The power of the subconscious:** We are human, after all, and as a consequence are susceptible to:\n",
    "    * <ins>Herd behaviour</ins>. There is a \"market price\" magnet in valuation.\n",
    "    * <ins>Hindsight bias</ins>. If you know the outcome of a sequence of events, it will affect your valuation.\n",
    "<br></br>    \n",
    "* **The power of suggestion:** Hearing what others think a company is worth will color your thinking.\n",
    "<br></br>\n",
    "* **The power of money:** If you have an economic stake in the outcome of a valuation, bias will always follow."
   ]
  },
  {
   "cell_type": "markdown",
   "id": "063341fc-b610-4f5b-8c09-c7d3c95a9f46",
   "metadata": {},
   "source": [
    "## 2.3 - What influences valuation?"
   ]
  },
  {
   "cell_type": "markdown",
   "id": "0d6161b9-8e73-425e-94af-197c6238033d",
   "metadata": {},
   "source": [
    "* If you are valuing your own business **for a sale to a third person**, you will value it **higher**.\n",
    "<br></br>\n",
    "* If you are valuing your own business **for divorce court**; half of your estimated value will go to your spouse (soon to be ex-spouse), you will value it **lower**.\n",
    "<br></br>\n",
    "* If you are an appraiser, **your valuation will change depending on who pays you**:\n",
    "    * IRS: You will value it higher, so IRS can charge higher taxes.\n",
    "    * Owner: You will value it lower, so the owner can pay fewer taxes.\n",
    "<br></br>    \n",
    "* If you are an equity research analyst, **your valuation will depend on the position of your portfolio manager** (i.e., they want confirmation):\n",
    "    * If the manager owns 1.000.000 share, you will value it higher.\n",
    "    * If the manager is shorting the stock, you will value it lower.\n",
    "<br></br>    \n",
    "* If you are an M&A analyst, working for the banker, **you will value it so the deal goes through** (lower or higher)."
   ]
  },
  {
   "cell_type": "markdown",
   "id": "2cea9781-fd69-43d0-8c23-b8822941a7ba",
   "metadata": {},
   "source": [
    "## 2.4 - Misconceptions about Valuation"
   ]
  },
  {
   "cell_type": "markdown",
   "id": "bcc989f5-723a-4713-afd6-4f04c020a313",
   "metadata": {},
   "source": [
    "* <ins>Myth 1:</ins> *A valuation is an objective search for \"true\" value.*\n",
    "    * Truth 1.1: All valuations are biased.\n",
    "    * Truth 1.2: The direction and magnitud of the bias in your valuation is directly proportional to who pays you and how much you are paid.\n",
    "<br></br>    \n",
    "* <ins>Myth 2:</ins> *A good valuation provides a precise estimate of value*.\n",
    "    * Truth 2.1: There are no precise valuations.\n",
    "    * Truth 2.2: The payoff to valuation is greatest when valuation is least precise.\n",
    "<br></br>\n",
    "* <ins>Myth 3:</ins> *The more quantitative a model, the better the valuation*.\n",
    "    * Truth 3.1: Your understanding of a valuation model is inversely proportional to the number of inputs required for the model.\n",
    "    * Truth 3.2: Simpler valuation models do much better than complex ones.\n",
    "    \n",
    "**When in doubt -> aggregate, do not put more complexity in the models, but less. Especially if you do not know how to do it.**"
   ]
  },
  {
   "cell_type": "markdown",
   "id": "1e8b1b1f-e93a-4911-8b97-dbf6101774ed",
   "metadata": {},
   "source": [
    "## 2.5 - The Bermuda Triangle of Valuation"
   ]
  },
  {
   "cell_type": "markdown",
   "id": "befb5b1f-10dc-40c4-8c5e-ca271da87cf3",
   "metadata": {
    "tags": []
   },
   "source": [
    "<table>\n",
    "    <tr>\n",
    "        <td><img src=\"images_2/bermuda_triangle.png\" width=\"500\"></td>\n",
    "    </tr>  \n",
    "</table>"
   ]
  },
  {
   "cell_type": "markdown",
   "id": "12ad5deb-ba6d-44c6-b42a-b7846ddee64d",
   "metadata": {},
   "source": [
    "## 2.6 - Approaches to Valuation"
   ]
  },
  {
   "cell_type": "markdown",
   "id": "470fff89-f430-4870-85a3-5b771d1e327a",
   "metadata": {},
   "source": [
    "<!-- * **Intrinsic valuation**. Value an assets with respect to its capacity to generate cash flows and the risk in these cash flows. In its most common form, it is computed with a **discounted cash flow valuation (DCF)**.\n",
    "* **Relative valuation or pricing**, estimates how much to pay for an asset by looking at what others are paying for \"comparable\" assets.\n",
    "* **Contingent claim (or real option) valuation**, augments the value of assets, whose cash flows are contingent on an event happening. -->\n",
    "\n",
    "<table>\n",
    "    <tr>\n",
    "        <td><img src=\"images_2/approaches_to_valuation.png\" width=\"700\"></td>\n",
    "    </tr>  \n",
    "</table>"
   ]
  },
  {
   "cell_type": "markdown",
   "id": "1b975d19-5790-41e8-a07f-a74a53e89a3e",
   "metadata": {},
   "source": [
    "## 2.7 - Basis for all valuation approaches"
   ]
  },
  {
   "cell_type": "markdown",
   "id": "5327e40f-bc0f-4422-a009-2d61ee38ddd2",
   "metadata": {},
   "source": [
    "<table>\n",
    "    <tr>\n",
    "        <td><img src=\"images_2/basis_for_valuation.png\" width=\"700\"></td>\n",
    "    </tr>  \n",
    "</table>"
   ]
  },
  {
   "cell_type": "markdown",
   "id": "2843e3af-70ab-4760-b497-34b286e163de",
   "metadata": {},
   "source": [
    "## 2.8 - Discounted Cashflow Valuation (DCF)"
   ]
  },
  {
   "cell_type": "markdown",
   "id": "5aa1bca1-5fc6-44b5-a802-026116896731",
   "metadata": {
    "tags": []
   },
   "source": [
    "<table>\n",
    "    <tr>\n",
    "        <td><img src=\"images_2/dcf_4.png\" width=\"700\"></td>\n",
    "    </tr>  \n",
    "</table>\n",
    "\n",
    "<table>\n",
    "    <tr>\n",
    "        <td><img src=\"images_2/dcf_1.png\" width=\"700\"></td>\n",
    "    </tr>  \n",
    "</table>\n",
    "\n",
    "<table>\n",
    "    <tr>\n",
    "        <td><img src=\"images_2/dcf_2.png\" width=\"700\"></td>\n",
    "    </tr>  \n",
    "</table>\n",
    "\n",
    "<table>\n",
    "    <tr>\n",
    "        <td><img src=\"images_2/dcf_3.png\" width=\"700\"></td>\n",
    "    </tr>  \n",
    "</table>"
   ]
  },
  {
   "cell_type": "markdown",
   "id": "051dc72d-fb22-4a6c-801e-dd1c92477c77",
   "metadata": {},
   "source": [
    "## 2.9 - Relative valuation (Pricing)"
   ]
  },
  {
   "cell_type": "markdown",
   "id": "1b1e997a-4133-4ebf-9efa-09b20e391ef0",
   "metadata": {},
   "source": [
    "<table>\n",
    "    <tr>\n",
    "        <td><img src=\"images_2/pricing_1.png\" width=\"700\"></td>\n",
    "    </tr>  \n",
    "</table>\n",
    "\n",
    "<table>\n",
    "    <tr>\n",
    "        <td><img src=\"images_2/pricing_2.png\" width=\"700\"></td>\n",
    "    </tr>  \n",
    "</table>\n",
    "\n",
    "<table>\n",
    "    <tr>\n",
    "        <td><img src=\"images_2/pricing_3.png\" width=\"700\"></td>\n",
    "    </tr>  \n",
    "</table>\n",
    "\n",
    "<table>\n",
    "    <tr>\n",
    "        <td><img src=\"images_2/pricing_4.png\" width=\"700\"></td>\n",
    "    </tr>  \n",
    "</table>\n",
    "\n",
    "<table>\n",
    "    <tr>\n",
    "        <td><img src=\"images_2/pricing_5.png\" width=\"700\"></td>\n",
    "    </tr>  \n",
    "</table>"
   ]
  },
  {
   "cell_type": "markdown",
   "id": "9b66ef25-bda3-4601-a22e-48ddd771841d",
   "metadata": {},
   "source": [
    "## 2.10 - Asset Based Valuation"
   ]
  },
  {
   "cell_type": "markdown",
   "id": "848b68c7-e5e7-4092-9ffa-0e3ff5f69938",
   "metadata": {},
   "source": [
    "<table>\n",
    "    <tr>\n",
    "        <td><img src=\"images_2/asset_based_valuation.png\" width=\"700\"></td>\n",
    "    </tr>  \n",
    "</table>"
   ]
  },
  {
   "cell_type": "markdown",
   "id": "1bdc287d-f746-423e-a454-04df464fdbf2",
   "metadata": {},
   "source": [
    "## 2.11 - Contingent Claim (Option) Valuation"
   ]
  },
  {
   "cell_type": "markdown",
   "id": "b50fa0b7-912e-429d-8c18-0341d1197ca2",
   "metadata": {},
   "source": [
    "<table>\n",
    "    <tr>\n",
    "        <td><img src=\"images_2/options_1.png\" width=\"700\"></td>\n",
    "    </tr>  \n",
    "</table>\n",
    "\n",
    "<table>\n",
    "    <tr>\n",
    "        <td><img src=\"images_2/options_2.png\" width=\"700\"></td>\n",
    "    </tr>  \n",
    "</table>\n",
    "\n",
    "<table>\n",
    "    <tr>\n",
    "        <td><img src=\"images_2/options_3.png\" width=\"700\"></td>\n",
    "    </tr>  \n",
    "</table>\n",
    "\n",
    "<table>\n",
    "    <tr>\n",
    "        <td><img src=\"images_2/options_4.png\" width=\"700\"></td>\n",
    "    </tr>  \n",
    "</table>\n",
    "\n",
    "<table>\n",
    "    <tr>\n",
    "        <td><img src=\"images_2/options_5.png\" width=\"700\"></td>\n",
    "    </tr>  \n",
    "</table>\n",
    "\n",
    "<table>\n",
    "    <tr>\n",
    "        <td><img src=\"images_2/options_6.png\" width=\"700\"></td>\n",
    "    </tr>  \n",
    "</table>"
   ]
  }
 ],
 "metadata": {
  "kernelspec": {
   "display_name": "Python 3 (ipykernel)",
   "language": "python",
   "name": "python3"
  },
  "language_info": {
   "codemirror_mode": {
    "name": "ipython",
    "version": 3
   },
   "file_extension": ".py",
   "mimetype": "text/x-python",
   "name": "python",
   "nbconvert_exporter": "python",
   "pygments_lexer": "ipython3",
   "version": "3.9.15"
  }
 },
 "nbformat": 4,
 "nbformat_minor": 5
}
