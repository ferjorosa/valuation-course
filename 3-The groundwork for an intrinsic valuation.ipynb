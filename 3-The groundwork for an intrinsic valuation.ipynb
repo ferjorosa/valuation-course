{
 "cells": [
  {
   "cell_type": "markdown",
   "id": "0c6f0606-c866-4ca1-8e76-bbdba3b3cc48",
   "metadata": {},
   "source": [
    "# 3 - The Groundwork for Intrinsic Valuation\n",
    "\n",
    "1. The essence of intrinsic value\n",
    "2. DCF Choices: Equity valuation vs Firm valuation\n",
    "3. DCF Choices example: Equity valuation vs Firm valuation \n",
    "4. DCF: First steps\n",
    "5. DCF: The proces\n",
    "6. DCF: Discount rates"
   ]
  },
  {
   "cell_type": "markdown",
   "id": "2ca8649e-f121-4655-9c5a-01db28fd780a",
   "metadata": {
    "jp-MarkdownHeadingCollapsed": true,
    "tags": []
   },
   "source": [
    "## 3.1 - The essence of intrinsic value"
   ]
  },
  {
   "cell_type": "markdown",
   "id": "fbad4d39-62b1-49ff-a587-8d47e41cd0e7",
   "metadata": {},
   "source": [
    "<table>\n",
    "    <tr>\n",
    "        <td><img src=\"images_3/dcf_two_faces.png\" width=\"700\"></td>\n",
    "    </tr>\n",
    "</table>\n",
    "\n",
    "<table>\n",
    "    <tr>\n",
    "        <td><img src=\"images_3/dcf_propositions.png\" width=\"700\"></td>\n",
    "    </tr>\n",
    "</table>"
   ]
  },
  {
   "cell_type": "markdown",
   "id": "2b8ee6cb-9d39-4d3a-89fe-b0f7f24816d7",
   "metadata": {
    "jp-MarkdownHeadingCollapsed": true,
    "tags": []
   },
   "source": [
    "## 3.2 - DCF Choices: Equity valuation vs Firm valuation"
   ]
  },
  {
   "cell_type": "markdown",
   "id": "fc6a1a0e-98a2-4040-a977-e05811d704b5",
   "metadata": {},
   "source": [
    "<table>\n",
    "    <tr>\n",
    "        <td><img src=\"images_3/equity_valuation.png\" width=\"700\"></td>\n",
    "    </tr>\n",
    "</table>\n",
    "\n",
    "<table>\n",
    "    <tr>\n",
    "        <td><img src=\"images_3/firm_valuation.png\" width=\"700\"></td>\n",
    "    </tr>\n",
    "</table>\n",
    "\n",
    "**The discount rate should always be based on the target company as it reflects the project/investment risk**. Using the discount rate of the original firm would imply \"reducing the risk\" of the investment. This is occurred in the following M&A case:\n",
    "\n",
    "In this example they were doing **equity valuation because they were using net income**\n",
    "\n",
    "<table>\n",
    "    <tr>\n",
    "        <td><img src=\"images_3/discount_rate_example.png\" width=\"700\"></td>\n",
    "    </tr>\n",
    "</table>\n",
    "\n"
   ]
  },
  {
   "cell_type": "markdown",
   "id": "cdeb94ca-6e11-4e97-98f5-663dab33d612",
   "metadata": {
    "jp-MarkdownHeadingCollapsed": true,
    "tags": []
   },
   "source": [
    "## 3.3 - DCF Choices example: Equity valuation vs Firm valuation "
   ]
  },
  {
   "cell_type": "markdown",
   "id": "e12256c5-215f-4cf6-85de-64c74a37b8c8",
   "metadata": {},
   "source": [
    "<table>\n",
    "    <tr>\n",
    "        <td><img src=\"images_3/dcf_example_1.png\" width=\"700\"></td>\n",
    "    </tr>\n",
    "</table>\n",
    "\n",
    "<table>\n",
    "    <tr>\n",
    "        <td><img src=\"images_3/dcf_example_2.png\" width=\"700\"></td>\n",
    "    </tr>\n",
    "</table>\n",
    "\n",
    "<table>\n",
    "    <tr>\n",
    "        <td><img src=\"images_3/dcf_example_3.png\" width=\"700\"></td>\n",
    "    </tr>\n",
    "</table>\n",
    "\n",
    "<table>\n",
    "    <tr>\n",
    "        <td><img src=\"images_3/dcf_example_4.png\" width=\"700\"></td>\n",
    "    </tr>\n",
    "</table>"
   ]
  },
  {
   "cell_type": "markdown",
   "id": "415ea4f1-dfc3-48ec-b048-be3158067c20",
   "metadata": {
    "jp-MarkdownHeadingCollapsed": true,
    "tags": []
   },
   "source": [
    "## 3.4 - DCF: First steps"
   ]
  },
  {
   "cell_type": "markdown",
   "id": "dd78d4fc-5b66-4aa2-b2d0-e2ef5dcef44a",
   "metadata": {},
   "source": [
    "<table>\n",
    "    <tr>\n",
    "        <td><img src=\"images_3/dcf_steps_1.png\" width=\"700\"></td>\n",
    "    </tr>\n",
    "</table>\n",
    "\n",
    "<table>\n",
    "    <tr>\n",
    "        <td><img src=\"images_3/dcf_steps_2.png\" width=\"700\"></td>\n",
    "    </tr>\n",
    "</table>\n",
    "\n",
    "<table>\n",
    "    <tr>\n",
    "        <td><img src=\"images_3/dcf_steps_3.png\" width=\"700\"></td>\n",
    "    </tr>\n",
    "</table>\n",
    "\n",
    "<table>\n",
    "    <tr>\n",
    "        <td><img src=\"images_3/dcf_steps_4.png\" width=\"700\"></td>\n",
    "    </tr>\n",
    "</table>\n",
    "\n",
    "<table>\n",
    "    <tr>\n",
    "        <td><img src=\"images_3/dcf_steps_5.png\" width=\"700\"></td>\n",
    "    </tr>\n",
    "</table>"
   ]
  },
  {
   "cell_type": "markdown",
   "id": "8179a2c7-81e3-4cc7-bb76-7103ad0bd9d0",
   "metadata": {
    "jp-MarkdownHeadingCollapsed": true,
    "tags": []
   },
   "source": [
    "## 3.5 - DCF: The Process"
   ]
  },
  {
   "cell_type": "markdown",
   "id": "faa71fa3-7b28-41eb-a916-3ea58e5e11bc",
   "metadata": {},
   "source": [
    "<table>\n",
    "    <tr>\n",
    "        <td><img src=\"images_3/dcf_process_1.png\" width=\"700\"></td>\n",
    "    </tr>\n",
    "</table>\n",
    "\n",
    "<table>\n",
    "    <tr>\n",
    "        <td><img src=\"images_3/dcf_process_2.png\" width=\"700\"></td>\n",
    "    </tr>\n",
    "</table>"
   ]
  },
  {
   "cell_type": "markdown",
   "id": "eb5ae681-296d-44ea-9d0a-8de02ad2707d",
   "metadata": {
    "jp-MarkdownHeadingCollapsed": true,
    "tags": []
   },
   "source": [
    "## 3.6 - DCF: Discount rates"
   ]
  },
  {
   "cell_type": "markdown",
   "id": "d609e7de-909b-4966-ac58-0ad8b2d24574",
   "metadata": {},
   "source": [
    "<table>\n",
    "    <tr>\n",
    "        <td><img src=\"images_3/discount_rates_1.png\" width=\"700\"></td>\n",
    "    </tr>\n",
    "</table>\n",
    "\n",
    "<table>\n",
    "    <tr>\n",
    "        <td><img src=\"images_3/discount_rates_2.png\" width=\"700\"></td>\n",
    "    </tr>\n",
    "</table>\n",
    "\n",
    "<table>\n",
    "    <tr>\n",
    "        <td><img src=\"images_3/discount_rates_3.png\" width=\"700\"></td>\n",
    "    </tr>\n",
    "</table>\n"
   ]
  }
 ],
 "metadata": {
  "kernelspec": {
   "display_name": "Python 3 (ipykernel)",
   "language": "python",
   "name": "python3"
  },
  "language_info": {
   "codemirror_mode": {
    "name": "ipython",
    "version": 3
   },
   "file_extension": ".py",
   "mimetype": "text/x-python",
   "name": "python",
   "nbconvert_exporter": "python",
   "pygments_lexer": "ipython3",
   "version": "3.9.15"
  }
 },
 "nbformat": 4,
 "nbformat_minor": 5
}
